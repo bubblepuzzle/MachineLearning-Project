{
  "nbformat": 4,
  "nbformat_minor": 0,
  "metadata": {
    "colab": {
      "provenance": [],
      "authorship_tag": "ABX9TyNIL2IWKdmQODW6YzUcVJYU",
      "include_colab_link": true
    },
    "kernelspec": {
      "name": "python3",
      "display_name": "Python 3"
    },
    "language_info": {
      "name": "python"
    }
  },
  "cells": [
    {
      "cell_type": "markdown",
      "metadata": {
        "id": "view-in-github",
        "colab_type": "text"
      },
      "source": [
        "<a href=\"https://colab.research.google.com/github/bubblepuzzle/MachineLearning-Project/blob/main/Recognition_of_Handwritten_Digits.ipynb\" target=\"_parent\"><img src=\"https://colab.research.google.com/assets/colab-badge.svg\" alt=\"Open In Colab\"/></a>"
      ]
    },
    {
      "cell_type": "code",
      "execution_count": null,
      "metadata": {
        "colab": {
          "base_uri": "https://localhost:8080/"
        },
        "id": "Ntli8bayyR2Y",
        "outputId": "9939d627-5ad5-446a-f9e6-a503f9f0bd4c"
      },
      "outputs": [
        {
          "output_type": "execute_result",
          "data": {
            "text/plain": [
              "['DESCR', 'data', 'feature_names', 'frame', 'images', 'target', 'target_names']"
            ]
          },
          "metadata": {},
          "execution_count": 1
        }
      ],
      "source": [
        "# importing the hand written digit dataset\n",
        "from sklearn import datasets\n",
        "\n",
        "# digit contain the dataset\n",
        "digits = datasets.load_digits()\n",
        "\n",
        "# dir function use to display the attributes of the dataset\n",
        "dir(digits)\n"
      ]
    },
    {
      "cell_type": "code",
      "source": [
        "\n",
        "# outputting the picture value as a series of numbers\n",
        "print(digits.images[0])"
      ],
      "metadata": {
        "colab": {
          "base_uri": "https://localhost:8080/"
        },
        "id": "_KVJthkhybwU",
        "outputId": "28b65e17-db94-4457-d0e8-de7566378e8d"
      },
      "execution_count": null,
      "outputs": [
        {
          "output_type": "stream",
          "name": "stdout",
          "text": [
            "[[ 0.  0.  5. 13.  9.  1.  0.  0.]\n",
            " [ 0.  0. 13. 15. 10. 15.  5.  0.]\n",
            " [ 0.  3. 15.  2.  0. 11.  8.  0.]\n",
            " [ 0.  4. 12.  0.  0.  8.  8.  0.]\n",
            " [ 0.  5.  8.  0.  0.  9.  8.  0.]\n",
            " [ 0.  4. 11.  0.  1. 12.  7.  0.]\n",
            " [ 0.  2. 14.  5. 10. 12.  0.  0.]\n",
            " [ 0.  0.  6. 13. 10.  0.  0.  0.]]\n"
          ]
        }
      ]
    },
    {
      "cell_type": "code",
      "source": [
        "\n",
        "# importing the matplotlib libraries pyplot function\n",
        "import matplotlib.pyplot as plt\n",
        "# defining the function plot_multi\n",
        "\n",
        "def plot_multi(i):\n",
        "    nplots = 16\n",
        "    fig = plt.figure(figsize=(15, 15))\n",
        "    for j in range(nplots):\n",
        "        plt.subplot(4, 4, j+1)\n",
        "        plt.imshow(digits.images[i+j], cmap='binary')\n",
        "        plt.title(digits.target[i+j])\n",
        "        plt.axis('off')\n",
        "    # printing the each digits in the dataset.\n",
        "    plt.show()\n",
        "\n",
        "    plot_multi(0)"
      ],
      "metadata": {
        "id": "cW7dej9Wy74z"
      },
      "execution_count": null,
      "outputs": []
    },
    {
      "cell_type": "code",
      "source": [
        "\n",
        "# converting the 2 dimensional array to one dimensional array\n",
        "y = digits.target\n",
        "x = digits.images.reshape((len(digits.images), -1))\n",
        "\n",
        "# gives the  shape of the data\n",
        "x.shape"
      ],
      "metadata": {
        "colab": {
          "base_uri": "https://localhost:8080/"
        },
        "id": "K-Sum3iuzDP_",
        "outputId": "61dc54af-8437-4dfc-c906-749fedfe9d02"
      },
      "execution_count": null,
      "outputs": [
        {
          "output_type": "execute_result",
          "data": {
            "text/plain": [
              "(1797, 64)"
            ]
          },
          "metadata": {},
          "execution_count": 4
        }
      ]
    },
    {
      "cell_type": "code",
      "source": [
        "# printing the one-dimensional array's values\n",
        "x[0]\n"
      ],
      "metadata": {
        "colab": {
          "base_uri": "https://localhost:8080/"
        },
        "id": "uVBJbV6vzIOq",
        "outputId": "8a84ba73-218d-4719-be76-f4cca7a23a3c"
      },
      "execution_count": null,
      "outputs": [
        {
          "output_type": "execute_result",
          "data": {
            "text/plain": [
              "array([ 0.,  0.,  5., 13.,  9.,  1.,  0.,  0.,  0.,  0., 13., 15., 10.,\n",
              "       15.,  5.,  0.,  0.,  3., 15.,  2.,  0., 11.,  8.,  0.,  0.,  4.,\n",
              "       12.,  0.,  0.,  8.,  8.,  0.,  0.,  5.,  8.,  0.,  0.,  9.,  8.,\n",
              "        0.,  0.,  4., 11.,  0.,  1., 12.,  7.,  0.,  0.,  2., 14.,  5.,\n",
              "       10., 12.,  0.,  0.,  0.,  0.,  6., 13., 10.,  0.,  0.,  0.])"
            ]
          },
          "metadata": {},
          "execution_count": 5
        }
      ]
    },
    {
      "cell_type": "code",
      "source": [
        "# Very first 1000 photographs and\n",
        "# labels will be used in training.\n",
        "x_train = x[:1000]\n",
        "y_train = y[:1000]\n",
        "\n",
        "# The leftover dataset will be utilised to\n",
        "# test the network's performance later on.\n",
        "x_test = x[1000:]\n",
        "y_test = y[1000:]\n"
      ],
      "metadata": {
        "id": "NO407-xizM0R"
      },
      "execution_count": null,
      "outputs": []
    },
    {
      "cell_type": "code",
      "source": [
        "# importing the MLP classifier from sklearn\n",
        "from sklearn.neural_network import MLPClassifier\n",
        "\n",
        "# calling the MLP classifier with specific parameters\n",
        "mlp = MLPClassifier(hidden_layer_sizes=(15,),\n",
        "\t\t\t\t\tactivation='logistic',\n",
        "\t\t\t\t\talpha=1e-4, solver='sgd',\n",
        "\t\t\t\t\ttol=1e-4, random_state=1,\n",
        "\t\t\t\t\tlearning_rate_init=.1,\n",
        "\t\t\t\t\tverbose=True)\n"
      ],
      "metadata": {
        "id": "OMJLIILezRF6"
      },
      "execution_count": null,
      "outputs": []
    },
    {
      "cell_type": "code",
      "source": [
        "mlp.fit(x_train, y_train)\n"
      ],
      "metadata": {
        "colab": {
          "base_uri": "https://localhost:8080/",
          "height": 1000
        },
        "id": "nLQK_KH5zZKZ",
        "outputId": "71a8d0c2-b36c-4d8e-af9c-b467cf328597"
      },
      "execution_count": null,
      "outputs": [
        {
          "output_type": "stream",
          "name": "stdout",
          "text": [
            "Iteration 1, loss = 2.22958289\n",
            "Iteration 2, loss = 1.91207743\n",
            "Iteration 3, loss = 1.62507727\n",
            "Iteration 4, loss = 1.32649842\n",
            "Iteration 5, loss = 1.06100535\n",
            "Iteration 6, loss = 0.83995513\n",
            "Iteration 7, loss = 0.67806075\n",
            "Iteration 8, loss = 0.55175832\n",
            "Iteration 9, loss = 0.45840445\n",
            "Iteration 10, loss = 0.39149735\n",
            "Iteration 11, loss = 0.33676351\n",
            "Iteration 12, loss = 0.29059880\n",
            "Iteration 13, loss = 0.25437208\n",
            "Iteration 14, loss = 0.22838372\n",
            "Iteration 15, loss = 0.20200554\n",
            "Iteration 16, loss = 0.18186565\n",
            "Iteration 17, loss = 0.16461183\n",
            "Iteration 18, loss = 0.14990228\n",
            "Iteration 19, loss = 0.13892154\n",
            "Iteration 20, loss = 0.12833784\n",
            "Iteration 21, loss = 0.12138920\n",
            "Iteration 22, loss = 0.11407971\n",
            "Iteration 23, loss = 0.10677664\n",
            "Iteration 24, loss = 0.10037149\n",
            "Iteration 25, loss = 0.09593187\n",
            "Iteration 26, loss = 0.09250135\n",
            "Iteration 27, loss = 0.08676698\n",
            "Iteration 28, loss = 0.08356043\n",
            "Iteration 29, loss = 0.08209789\n",
            "Iteration 30, loss = 0.07649168\n",
            "Iteration 31, loss = 0.07410898\n",
            "Iteration 32, loss = 0.07126869\n",
            "Iteration 33, loss = 0.06926956\n",
            "Iteration 34, loss = 0.06578496\n",
            "Iteration 35, loss = 0.06374913\n",
            "Iteration 36, loss = 0.06175492\n",
            "Iteration 37, loss = 0.05975664\n",
            "Iteration 38, loss = 0.05764485\n",
            "Iteration 39, loss = 0.05623663\n",
            "Iteration 40, loss = 0.05420966\n",
            "Iteration 41, loss = 0.05413911\n",
            "Iteration 42, loss = 0.05256140\n",
            "Iteration 43, loss = 0.05020265\n",
            "Iteration 44, loss = 0.04902779\n",
            "Iteration 45, loss = 0.04788382\n",
            "Iteration 46, loss = 0.04655532\n",
            "Iteration 47, loss = 0.04586089\n",
            "Iteration 48, loss = 0.04451758\n",
            "Iteration 49, loss = 0.04341598\n",
            "Iteration 50, loss = 0.04238096\n",
            "Iteration 51, loss = 0.04162200\n",
            "Iteration 52, loss = 0.04076839\n",
            "Iteration 53, loss = 0.04003180\n",
            "Iteration 54, loss = 0.03907774\n",
            "Iteration 55, loss = 0.03815565\n",
            "Iteration 56, loss = 0.03791975\n",
            "Iteration 57, loss = 0.03706276\n",
            "Iteration 58, loss = 0.03617874\n",
            "Iteration 59, loss = 0.03593227\n",
            "Iteration 60, loss = 0.03504175\n",
            "Iteration 61, loss = 0.03441259\n",
            "Iteration 62, loss = 0.03397449\n",
            "Iteration 63, loss = 0.03326990\n",
            "Iteration 64, loss = 0.03305025\n",
            "Iteration 65, loss = 0.03244893\n",
            "Iteration 66, loss = 0.03191504\n",
            "Iteration 67, loss = 0.03132169\n",
            "Iteration 68, loss = 0.03079707\n",
            "Iteration 69, loss = 0.03044946\n",
            "Iteration 70, loss = 0.03005546\n",
            "Iteration 71, loss = 0.02960555\n",
            "Iteration 72, loss = 0.02912799\n",
            "Iteration 73, loss = 0.02859103\n",
            "Iteration 74, loss = 0.02825959\n",
            "Iteration 75, loss = 0.02788968\n",
            "Iteration 76, loss = 0.02748725\n",
            "Iteration 77, loss = 0.02721247\n",
            "Iteration 78, loss = 0.02686225\n",
            "Iteration 79, loss = 0.02635636\n",
            "Iteration 80, loss = 0.02607439\n",
            "Iteration 81, loss = 0.02577613\n",
            "Iteration 82, loss = 0.02553642\n",
            "Iteration 83, loss = 0.02518749\n",
            "Iteration 84, loss = 0.02484300\n",
            "Iteration 85, loss = 0.02455379\n",
            "Iteration 86, loss = 0.02432480\n",
            "Iteration 87, loss = 0.02398548\n",
            "Iteration 88, loss = 0.02376004\n",
            "Iteration 89, loss = 0.02341261\n",
            "Iteration 90, loss = 0.02318255\n",
            "Iteration 91, loss = 0.02296065\n",
            "Iteration 92, loss = 0.02274048\n",
            "Iteration 93, loss = 0.02241054\n",
            "Iteration 94, loss = 0.02208181\n",
            "Iteration 95, loss = 0.02190861\n",
            "Iteration 96, loss = 0.02174404\n",
            "Iteration 97, loss = 0.02156939\n",
            "Iteration 98, loss = 0.02119768\n",
            "Iteration 99, loss = 0.02101874\n",
            "Iteration 100, loss = 0.02078230\n",
            "Iteration 101, loss = 0.02061573\n",
            "Iteration 102, loss = 0.02039802\n",
            "Iteration 103, loss = 0.02017245\n",
            "Iteration 104, loss = 0.01997162\n",
            "Iteration 105, loss = 0.01989280\n",
            "Iteration 106, loss = 0.01963828\n",
            "Iteration 107, loss = 0.01941850\n",
            "Iteration 108, loss = 0.01933154\n",
            "Iteration 109, loss = 0.01911473\n",
            "Iteration 110, loss = 0.01905371\n",
            "Iteration 111, loss = 0.01876085\n",
            "Iteration 112, loss = 0.01860656\n",
            "Iteration 113, loss = 0.01848655\n",
            "Iteration 114, loss = 0.01834844\n",
            "Iteration 115, loss = 0.01818981\n",
            "Iteration 116, loss = 0.01798523\n",
            "Iteration 117, loss = 0.01783630\n",
            "Iteration 118, loss = 0.01771441\n",
            "Iteration 119, loss = 0.01749814\n",
            "Iteration 120, loss = 0.01738339\n",
            "Iteration 121, loss = 0.01726549\n",
            "Iteration 122, loss = 0.01709638\n",
            "Iteration 123, loss = 0.01698340\n",
            "Iteration 124, loss = 0.01684606\n",
            "Iteration 125, loss = 0.01667016\n",
            "Iteration 126, loss = 0.01654172\n",
            "Iteration 127, loss = 0.01641832\n",
            "Iteration 128, loss = 0.01630111\n",
            "Iteration 129, loss = 0.01623051\n",
            "Iteration 130, loss = 0.01612736\n",
            "Iteration 131, loss = 0.01590220\n",
            "Iteration 132, loss = 0.01582485\n",
            "Iteration 133, loss = 0.01571372\n",
            "Iteration 134, loss = 0.01560349\n",
            "Iteration 135, loss = 0.01557688\n",
            "Iteration 136, loss = 0.01534420\n",
            "Iteration 137, loss = 0.01527883\n",
            "Iteration 138, loss = 0.01517545\n",
            "Iteration 139, loss = 0.01503663\n",
            "Iteration 140, loss = 0.01501192\n",
            "Iteration 141, loss = 0.01482535\n",
            "Iteration 142, loss = 0.01471388\n",
            "Iteration 143, loss = 0.01463948\n",
            "Iteration 144, loss = 0.01454059\n",
            "Iteration 145, loss = 0.01441742\n",
            "Iteration 146, loss = 0.01431741\n",
            "Iteration 147, loss = 0.01428414\n",
            "Iteration 148, loss = 0.01416364\n",
            "Iteration 149, loss = 0.01406742\n",
            "Iteration 150, loss = 0.01402651\n",
            "Iteration 151, loss = 0.01389720\n",
            "Iteration 152, loss = 0.01381412\n",
            "Iteration 153, loss = 0.01371300\n",
            "Iteration 154, loss = 0.01362465\n",
            "Iteration 155, loss = 0.01357048\n",
            "Iteration 156, loss = 0.01348760\n",
            "Iteration 157, loss = 0.01339543\n",
            "Iteration 158, loss = 0.01331941\n",
            "Iteration 159, loss = 0.01320812\n",
            "Iteration 160, loss = 0.01315415\n",
            "Iteration 161, loss = 0.01308279\n",
            "Iteration 162, loss = 0.01302708\n",
            "Iteration 163, loss = 0.01290042\n",
            "Iteration 164, loss = 0.01289267\n",
            "Iteration 165, loss = 0.01277558\n",
            "Iteration 166, loss = 0.01277238\n",
            "Iteration 167, loss = 0.01261308\n",
            "Iteration 168, loss = 0.01260611\n",
            "Iteration 169, loss = 0.01248789\n",
            "Iteration 170, loss = 0.01239662\n",
            "Iteration 171, loss = 0.01231743\n",
            "Iteration 172, loss = 0.01227346\n",
            "Iteration 173, loss = 0.01223136\n",
            "Iteration 174, loss = 0.01217211\n",
            "Iteration 175, loss = 0.01208682\n",
            "Iteration 176, loss = 0.01204707\n",
            "Iteration 177, loss = 0.01200225\n",
            "Iteration 178, loss = 0.01188677\n",
            "Iteration 179, loss = 0.01184993\n",
            "Iteration 180, loss = 0.01175130\n",
            "Iteration 181, loss = 0.01171178\n",
            "Iteration 182, loss = 0.01166052\n",
            "Iteration 183, loss = 0.01163843\n",
            "Iteration 184, loss = 0.01154892\n",
            "Iteration 185, loss = 0.01147629\n",
            "Iteration 186, loss = 0.01142365\n",
            "Iteration 187, loss = 0.01136608\n",
            "Iteration 188, loss = 0.01128053\n",
            "Iteration 189, loss = 0.01128869\n",
            "Training loss did not improve more than tol=0.000100 for 10 consecutive epochs. Stopping.\n"
          ]
        },
        {
          "output_type": "execute_result",
          "data": {
            "text/plain": [
              "MLPClassifier(activation='logistic', hidden_layer_sizes=(15,),\n",
              "              learning_rate_init=0.1, random_state=1, solver='sgd',\n",
              "              verbose=True)"
            ],
            "text/html": [
              "<style>#sk-container-id-1 {color: black;background-color: white;}#sk-container-id-1 pre{padding: 0;}#sk-container-id-1 div.sk-toggleable {background-color: white;}#sk-container-id-1 label.sk-toggleable__label {cursor: pointer;display: block;width: 100%;margin-bottom: 0;padding: 0.3em;box-sizing: border-box;text-align: center;}#sk-container-id-1 label.sk-toggleable__label-arrow:before {content: \"▸\";float: left;margin-right: 0.25em;color: #696969;}#sk-container-id-1 label.sk-toggleable__label-arrow:hover:before {color: black;}#sk-container-id-1 div.sk-estimator:hover label.sk-toggleable__label-arrow:before {color: black;}#sk-container-id-1 div.sk-toggleable__content {max-height: 0;max-width: 0;overflow: hidden;text-align: left;background-color: #f0f8ff;}#sk-container-id-1 div.sk-toggleable__content pre {margin: 0.2em;color: black;border-radius: 0.25em;background-color: #f0f8ff;}#sk-container-id-1 input.sk-toggleable__control:checked~div.sk-toggleable__content {max-height: 200px;max-width: 100%;overflow: auto;}#sk-container-id-1 input.sk-toggleable__control:checked~label.sk-toggleable__label-arrow:before {content: \"▾\";}#sk-container-id-1 div.sk-estimator input.sk-toggleable__control:checked~label.sk-toggleable__label {background-color: #d4ebff;}#sk-container-id-1 div.sk-label input.sk-toggleable__control:checked~label.sk-toggleable__label {background-color: #d4ebff;}#sk-container-id-1 input.sk-hidden--visually {border: 0;clip: rect(1px 1px 1px 1px);clip: rect(1px, 1px, 1px, 1px);height: 1px;margin: -1px;overflow: hidden;padding: 0;position: absolute;width: 1px;}#sk-container-id-1 div.sk-estimator {font-family: monospace;background-color: #f0f8ff;border: 1px dotted black;border-radius: 0.25em;box-sizing: border-box;margin-bottom: 0.5em;}#sk-container-id-1 div.sk-estimator:hover {background-color: #d4ebff;}#sk-container-id-1 div.sk-parallel-item::after {content: \"\";width: 100%;border-bottom: 1px solid gray;flex-grow: 1;}#sk-container-id-1 div.sk-label:hover label.sk-toggleable__label {background-color: #d4ebff;}#sk-container-id-1 div.sk-serial::before {content: \"\";position: absolute;border-left: 1px solid gray;box-sizing: border-box;top: 0;bottom: 0;left: 50%;z-index: 0;}#sk-container-id-1 div.sk-serial {display: flex;flex-direction: column;align-items: center;background-color: white;padding-right: 0.2em;padding-left: 0.2em;position: relative;}#sk-container-id-1 div.sk-item {position: relative;z-index: 1;}#sk-container-id-1 div.sk-parallel {display: flex;align-items: stretch;justify-content: center;background-color: white;position: relative;}#sk-container-id-1 div.sk-item::before, #sk-container-id-1 div.sk-parallel-item::before {content: \"\";position: absolute;border-left: 1px solid gray;box-sizing: border-box;top: 0;bottom: 0;left: 50%;z-index: -1;}#sk-container-id-1 div.sk-parallel-item {display: flex;flex-direction: column;z-index: 1;position: relative;background-color: white;}#sk-container-id-1 div.sk-parallel-item:first-child::after {align-self: flex-end;width: 50%;}#sk-container-id-1 div.sk-parallel-item:last-child::after {align-self: flex-start;width: 50%;}#sk-container-id-1 div.sk-parallel-item:only-child::after {width: 0;}#sk-container-id-1 div.sk-dashed-wrapped {border: 1px dashed gray;margin: 0 0.4em 0.5em 0.4em;box-sizing: border-box;padding-bottom: 0.4em;background-color: white;}#sk-container-id-1 div.sk-label label {font-family: monospace;font-weight: bold;display: inline-block;line-height: 1.2em;}#sk-container-id-1 div.sk-label-container {text-align: center;}#sk-container-id-1 div.sk-container {/* jupyter's `normalize.less` sets `[hidden] { display: none; }` but bootstrap.min.css set `[hidden] { display: none !important; }` so we also need the `!important` here to be able to override the default hidden behavior on the sphinx rendered scikit-learn.org. See: https://github.com/scikit-learn/scikit-learn/issues/21755 */display: inline-block !important;position: relative;}#sk-container-id-1 div.sk-text-repr-fallback {display: none;}</style><div id=\"sk-container-id-1\" class=\"sk-top-container\"><div class=\"sk-text-repr-fallback\"><pre>MLPClassifier(activation=&#x27;logistic&#x27;, hidden_layer_sizes=(15,),\n",
              "              learning_rate_init=0.1, random_state=1, solver=&#x27;sgd&#x27;,\n",
              "              verbose=True)</pre><b>In a Jupyter environment, please rerun this cell to show the HTML representation or trust the notebook. <br />On GitHub, the HTML representation is unable to render, please try loading this page with nbviewer.org.</b></div><div class=\"sk-container\" hidden><div class=\"sk-item\"><div class=\"sk-estimator sk-toggleable\"><input class=\"sk-toggleable__control sk-hidden--visually\" id=\"sk-estimator-id-1\" type=\"checkbox\" checked><label for=\"sk-estimator-id-1\" class=\"sk-toggleable__label sk-toggleable__label-arrow\">MLPClassifier</label><div class=\"sk-toggleable__content\"><pre>MLPClassifier(activation=&#x27;logistic&#x27;, hidden_layer_sizes=(15,),\n",
              "              learning_rate_init=0.1, random_state=1, solver=&#x27;sgd&#x27;,\n",
              "              verbose=True)</pre></div></div></div></div></div>"
            ]
          },
          "metadata": {},
          "execution_count": 8
        }
      ]
    },
    {
      "cell_type": "code",
      "source": [],
      "metadata": {
        "id": "XIzoLkULzzGN"
      },
      "execution_count": null,
      "outputs": []
    },
    {
      "cell_type": "code",
      "source": [
        "fig, axes = plt.subplots(1, 1)\n",
        "axes.plot(mlp.loss_curve_, 'o-')\n",
        "axes.set_xlabel(\"number of iteration\")\n",
        "axes.set_ylabel(\"loss\")\n",
        "plt.show()\n"
      ],
      "metadata": {
        "colab": {
          "base_uri": "https://localhost:8080/",
          "height": 449
        },
        "id": "hfj5XBoQzcou",
        "outputId": "0ad1d6cb-2c28-42b8-f21b-3dc7fa7c55f1"
      },
      "execution_count": null,
      "outputs": [
        {
          "output_type": "display_data",
          "data": {
            "text/plain": [
              "<Figure size 640x480 with 1 Axes>"
            ],
            "image/png": "[encoded data removed]"
          },
          "metadata": {}
        }
      ]
    },
    {
      "cell_type": "code",
      "source": [
        "predictions = mlp.predict(x_test)\n",
        "predictions[:50]\n"
      ],
      "metadata": {
        "colab": {
          "base_uri": "https://localhost:8080/"
        },
        "id": "DpkKmLbIzrcl",
        "outputId": "2c43c74a-4dd9-49b9-f6cc-911e384d008c"
      },
      "execution_count": null,
      "outputs": [
        {
          "output_type": "execute_result",
          "data": {
            "text/plain": [
              "array([1, 4, 0, 5, 3, 6, 9, 6, 1, 7, 5, 4, 4, 7, 2, 8, 2, 2, 5, 7, 9, 5,\n",
              "       4, 4, 9, 0, 8, 9, 8, 0, 1, 2, 3, 4, 5, 6, 7, 8, 3, 0, 1, 2, 3, 4,\n",
              "       5, 6, 7, 8, 5, 0])"
            ]
          },
          "metadata": {},
          "execution_count": 10
        }
      ]
    },
    {
      "cell_type": "code",
      "source": [
        "y_test[:50]\n"
      ],
      "metadata": {
        "colab": {
          "base_uri": "https://localhost:8080/"
        },
        "id": "R4DTW6aVztTg",
        "outputId": "e451b03c-3b98-4c05-d3ac-31b1573a950c"
      },
      "execution_count": null,
      "outputs": [
        {
          "output_type": "execute_result",
          "data": {
            "text/plain": [
              "array([1, 4, 0, 5, 3, 6, 9, 6, 1, 7, 5, 4, 4, 7, 2, 8, 2, 2, 5, 7, 9, 5,\n",
              "       4, 4, 9, 0, 8, 9, 8, 0, 1, 2, 3, 4, 5, 6, 7, 8, 9, 0, 1, 2, 3, 4,\n",
              "       5, 6, 7, 8, 9, 0])"
            ]
          },
          "metadata": {},
          "execution_count": 11
        }
      ]
    },
    {
      "cell_type": "code",
      "source": [
        "# importing the accuracy_score from the sklearn\n",
        "from sklearn.metrics import accuracy_score\n",
        "\n",
        "# calculating the accuracy with y_test and predictions\n",
        "accuracy_score(y_test, predictions)\n"
      ],
      "metadata": {
        "id": "lYuZV222z8U9",
        "outputId": "93518946-b206-4ca8-f5df-2eb7694c85b1",
        "colab": {
          "base_uri": "https://localhost:8080/"
        }
      },
      "execution_count": null,
      "outputs": [
        {
          "output_type": "execute_result",
          "data": {
            "text/plain": [
              "0.9146800501882058"
            ]
          },
          "metadata": {},
          "execution_count": 12
        }
      ]
    }
  ]
}